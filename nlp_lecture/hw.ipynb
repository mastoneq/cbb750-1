{
 "cells": [
  {
   "cell_type": "markdown",
   "metadata": {},
   "source": [
    "### Homework assignment for clinical NLP"
   ]
  },
  {
   "cell_type": "markdown",
   "metadata": {},
   "source": [
    "(1) Regular Expressions. Complete first 8 “lessons” at https://regexone.com/"
   ]
  },
  {
   "cell_type": "markdown",
   "metadata": {},
   "source": [
    "(2) Propose a simple way of finding negations in a sentence using regular expressions.  \n",
    "Your regular expression should make use of the | and * symbols."
   ]
  },
  {
   "cell_type": "code",
   "execution_count": 1,
   "metadata": {
    "collapsed": false
   },
   "outputs": [
    {
     "name": "stdout",
     "output_type": "stream",
     "text": [
      "We are not going home.\n",
      "We aren't going home.\n",
      "None\n",
      "None\n",
      "No way are we going home.\n"
     ]
    }
   ],
   "source": [
    "import nltk\n",
    "import re\n",
    "some_text = ['We are not going home.','We aren\\'t going home.', 'We won\\'t be going home.', 'We ain\\'t going home.','No way are we going home.']\n",
    "for i in some_text:\n",
    "    m = re.search(r'are', i)\n",
    "    if m is None:\n",
    "        print m\n",
    "    else:\n",
    "        print i\n"
   ]
  },
  {
   "cell_type": "markdown",
   "metadata": {},
   "source": [
    "(3) Use NLTK to tokenize, stem, POS tag, and find named entities in \n",
    "“Fx of obesity but no fx of coronary artery diseases.”  \n",
    "What named entities are in this sentence? What named entities does NLTK recognize? \n",
    "Use NLTK to plot the parse tree returned by "
   ]
  },
  {
   "cell_type": "code",
   "execution_count": 2,
   "metadata": {
    "collapsed": false
   },
   "outputs": [
    {
     "data": {
      "text/plain": [
       "'Fx of obesity but no fx of coronary artery diseases.'"
      ]
     },
     "execution_count": 2,
     "metadata": {},
     "output_type": "execute_result"
    }
   ],
   "source": [
    "sent=\"Fx of obesity but no fx of coronary artery diseases.\"\n",
    "sent"
   ]
  },
  {
   "cell_type": "code",
   "execution_count": 3,
   "metadata": {
    "collapsed": false
   },
   "outputs": [
    {
     "name": "stdout",
     "output_type": "stream",
     "text": [
      "['Fx', 'of', 'obesity', 'but', 'no', 'fx', 'of', 'coronary', 'artery', 'diseases', '.']\n"
     ]
    }
   ],
   "source": [
    "token = nltk.word_tokenize(sent)\n",
    "print token"
   ]
  },
  {
   "cell_type": "code",
   "execution_count": 4,
   "metadata": {
    "collapsed": false
   },
   "outputs": [
    {
     "name": "stdout",
     "output_type": "stream",
     "text": [
      "Normalized Tokens Include:\n",
      "['fx', 'of', 'obesity', 'but', 'no', 'fx', 'of', 'coronary', 'artery', 'diseases', '.']\n"
     ]
    }
   ],
   "source": [
    "normalized_tokens = [t.lower() for t in token]\n",
    "print 'Normalized Tokens Include:\\n', normalized_tokens"
   ]
  },
  {
   "cell_type": "code",
   "execution_count": 5,
   "metadata": {
    "collapsed": false
   },
   "outputs": [
    {
     "name": "stdout",
     "output_type": "stream",
     "text": [
      "The Vocabulary Includes:\n",
      "['.', 'artery', 'but', 'coronary', 'diseases', 'fx', 'no', 'obesity', 'of']\n"
     ]
    }
   ],
   "source": [
    "vocabulary = sorted(set(normalized_tokens))\n",
    "print 'The Vocabulary Includes:\\n', vocabulary"
   ]
  },
  {
   "cell_type": "code",
   "execution_count": 6,
   "metadata": {
    "collapsed": false
   },
   "outputs": [
    {
     "name": "stdout",
     "output_type": "stream",
     "text": [
      "The Stemmed Tokens Include:\n",
      "[u'.', u'arteri', u'but', u'coronari', u'diseas', u'fx', u'no', u'obes', u'of']\n"
     ]
    }
   ],
   "source": [
    "stemmed_tokens = [nltk.PorterStemmer().stem(t) for t in vocabulary]\n",
    "print 'The Stemmed Tokens Include:\\n', stemmed_tokens"
   ]
  },
  {
   "cell_type": "code",
   "execution_count": 7,
   "metadata": {
    "collapsed": false
   },
   "outputs": [
    {
     "name": "stdout",
     "output_type": "stream",
     "text": [
      "(u'.', '.')\n",
      "(u'arteri', 'NN')\n",
      "(u'but', 'CC')\n",
      "(u'coronari', 'JJ')\n",
      "(u'diseas', 'NNS')\n",
      "(u'fx', 'VBP')\n",
      "(u'no', 'DT')\n",
      "(u'obes', 'NN')\n",
      "(u'of', 'IN')\n"
     ]
    }
   ],
   "source": [
    "pos_stemmed_tokens = nltk.pos_tag(stemmed_tokens)\n",
    "for item in pos_stemmed_tokens:\n",
    "        print item"
   ]
  },
  {
   "cell_type": "code",
   "execution_count": 8,
   "metadata": {
    "collapsed": false
   },
   "outputs": [
    {
     "name": "stdout",
     "output_type": "stream",
     "text": [
      "('Fx', 'NNP')\n",
      "('of', 'IN')\n",
      "('obesity', 'NN')\n",
      "('but', 'CC')\n",
      "('no', 'DT')\n",
      "('fx', 'NN')\n",
      "('of', 'IN')\n",
      "('coronary', 'JJ')\n",
      "('artery', 'NN')\n",
      "('diseases', 'NNS')\n",
      "('.', '.')\n"
     ]
    }
   ],
   "source": [
    "pos_tokens = nltk.pos_tag(token)\n",
    "for item in pos_tokens:\n",
    "        print item"
   ]
  },
  {
   "cell_type": "code",
   "execution_count": 9,
   "metadata": {
    "collapsed": false
   },
   "outputs": [
    {
     "name": "stdout",
     "output_type": "stream",
     "text": [
      "The named entities recognized by Python include:\n",
      "Fx\n",
      "\n",
      "There are actually no named entities in this sentence however.\n"
     ]
    }
   ],
   "source": [
    "print 'The named entities recognized by Python include:'\n",
    "for item in pos_tokens:\n",
    "    if item[1] == 'NNP':\n",
    "        print item[0]\n",
    "print '\\nThere are actually no named entities in this sentence however.'"
   ]
  },
  {
   "cell_type": "code",
   "execution_count": 10,
   "metadata": {
    "collapsed": false
   },
   "outputs": [
    {
     "name": "stdout",
     "output_type": "stream",
     "text": [
      "(S\n",
      "  Fx/NNP\n",
      "  of/IN\n",
      "  obesity/NN\n",
      "  but/CC\n",
      "  no/DT\n",
      "  fx/NN\n",
      "  of/IN\n",
      "  coronary/JJ\n",
      "  artery/NN\n",
      "  diseases/NNS\n",
      "  ./.)\n"
     ]
    }
   ],
   "source": [
    "chunked_sentence = nltk.ne_chunk(pos_tokens)\n",
    "print chunked_sentence"
   ]
  },
  {
   "cell_type": "code",
   "execution_count": 11,
   "metadata": {
    "collapsed": false
   },
   "outputs": [
    {
     "name": "stdout",
     "output_type": "stream",
     "text": [
      "[]\n"
     ]
    }
   ],
   "source": [
    "import helper_ner\n",
    "named_entities = helper_ner.get_all_named_entities(chunked_sentence, structure='string')\n",
    "print named_entities"
   ]
  },
  {
   "cell_type": "code",
   "execution_count": 12,
   "metadata": {
    "collapsed": false
   },
   "outputs": [],
   "source": [
    "import os\n",
    "from IPython.core.display import display"
   ]
  },
  {
   "cell_type": "code",
   "execution_count": 13,
   "metadata": {
    "collapsed": false
   },
   "outputs": [
    {
     "data": {
      "image/png": "[encoded data removed]",
      "text/plain": [
       "Tree('S', [('Fx', 'NNP'), ('of', 'IN'), ('obesity', 'NN'), ('but', 'CC'), ('no', 'DT'), ('fx', 'NN'), ('of', 'IN'), ('coronary', 'JJ'), ('artery', 'NN'), ('diseases', 'NNS'), ('.', '.')])"
      ]
     },
     "execution_count": 13,
     "metadata": {},
     "output_type": "execute_result"
    }
   ],
   "source": [
    "os.environ['PATH'] += os.pathsep + '/usr/local/cellar/ghostscript/9.20/bin'\n",
    "chunked_sentence"
   ]
  },
  {
   "cell_type": "markdown",
   "metadata": {},
   "source": [
    "(4) Give several tokens with the “WDT” POS tag"
   ]
  },
  {
   "cell_type": "code",
   "execution_count": 14,
   "metadata": {
    "collapsed": false
   },
   "outputs": [
    {
     "name": "stdout",
     "output_type": "stream",
     "text": [
      "WDT: WH-determiner\n",
      "    that what whatever which whichever\n",
      "None\n"
     ]
    }
   ],
   "source": [
    "print nltk.help.upenn_tagset('WDT')"
   ]
  },
  {
   "cell_type": "markdown",
   "metadata": {},
   "source": [
    "(5) Create a dispersion plot of \"moon, earth, sun, mars\" in the 'sci.space' category of 20 newsgroups."
   ]
  },
  {
   "cell_type": "code",
   "execution_count": 15,
   "metadata": {
    "collapsed": false
   },
   "outputs": [],
   "source": [
    "from sklearn.datasets import fetch_20newsgroups"
   ]
  },
  {
   "cell_type": "code",
   "execution_count": 16,
   "metadata": {
    "collapsed": false
   },
   "outputs": [],
   "source": [
    "news = fetch_20newsgroups(subset='train',\n",
    "                          categories=('sci.space',),\n",
    "                          remove=('headers', 'footers', 'quotes'))"
   ]
  },
  {
   "cell_type": "code",
   "execution_count": 17,
   "metadata": {
    "collapsed": false
   },
   "outputs": [
    {
     "data": {
      "text/plain": [
       "['description', 'DESCR', 'filenames', 'target_names', 'data', 'target']"
      ]
     },
     "execution_count": 17,
     "metadata": {},
     "output_type": "execute_result"
    }
   ],
   "source": [
    "news.keys()"
   ]
  },
  {
   "cell_type": "code",
   "execution_count": 18,
   "metadata": {
    "collapsed": false
   },
   "outputs": [
    {
     "data": {
      "text/plain": [
       "u'For an essay, I am writing about the space shuttle and a need for a better\\npropulsion system.  Through research, I have found that it is rather clumsy \\n(i.e. all the checks/tests before launch), the safety hazards (\"sitting\\non a hydrogen bomb\"), etc..  If you have any beefs about the current\\nspace shuttle program Re: propulsion, please send me your ideas.\\n\\nThanks a lot.\\n'"
      ]
     },
     "execution_count": 18,
     "metadata": {},
     "output_type": "execute_result"
    }
   ],
   "source": [
    "news.data[50]"
   ]
  },
  {
   "cell_type": "code",
   "execution_count": 19,
   "metadata": {
    "collapsed": false
   },
   "outputs": [
    {
     "name": "stdout",
     "output_type": "stream",
     "text": [
      "For an essay, I am writing about the space shuttle and a need for a better\n",
      "propulsion system.  Through research, I have found that it is rather clumsy \n",
      "(i.e. all the checks/tests before launch), the safety hazards (\"sitting\n",
      "on a hydrogen bomb\"), etc..  If you have any beefs about the current\n",
      "space shuttle program Re: propulsion, please send me your ideas.\n",
      "\n",
      "Thanks a lot.\n",
      "\n"
     ]
    }
   ],
   "source": [
    "print news.data[50]"
   ]
  },
  {
   "cell_type": "code",
   "execution_count": 20,
   "metadata": {
    "collapsed": false
   },
   "outputs": [],
   "source": [
    "ltokens = [nltk.word_tokenize(doc) for doc in news.data]"
   ]
  },
  {
   "cell_type": "code",
   "execution_count": 21,
   "metadata": {
    "collapsed": false
   },
   "outputs": [],
   "source": [
    "import itertools\n",
    "tokens_all = list(itertools.chain.from_iterable(ltokens))"
   ]
  },
  {
   "cell_type": "code",
   "execution_count": 22,
   "metadata": {
    "collapsed": false
   },
   "outputs": [
    {
     "name": "stdout",
     "output_type": "stream",
     "text": [
      "The text comprises 144116 normalized tokens.\n",
      "The first few are [u'any', u'lunar', u'satellite', u'needs', u'fuel', u'to', u'do', u'regular', u'orbit', u'corrections']\n"
     ]
    }
   ],
   "source": [
    "# convert list of tokens to nltk text object\n",
    "x = nltk.Text(t.lower() for t in tokens_all)\n",
    "print \"The text comprises %d normalized tokens.\" % len(x)\n",
    "print \"The first few are\", x[:10]"
   ]
  },
  {
   "cell_type": "code",
   "execution_count": 23,
   "metadata": {
    "collapsed": false
   },
   "outputs": [
    {
     "data": {
      "image/png": "[encoded data removed]",
      "text/plain": [
       "<matplotlib.figure.Figure at 0x10b989890>"
      ]
     },
     "metadata": {},
     "output_type": "display_data"
    }
   ],
   "source": [
    "x.dispersion_plot(['moon','earth','sun','mars'])"
   ]
  },
  {
   "cell_type": "markdown",
   "metadata": {},
   "source": [
    "(6) Write a tag pattern to cover noun phrases that contain gerunds, \n",
    "e.g. \"the/DT receiving/VBG end/NN\", \"assistant/NN managing/VBG editor/NN\". \n",
    "Add these patterns to the grammar, one per line. \n",
    "Test your work using some tagged sentences of your own devising."
   ]
  },
  {
   "cell_type": "code",
   "execution_count": 75,
   "metadata": {
    "collapsed": false
   },
   "outputs": [],
   "source": [
    "grammar = r\"\"\"\n",
    "  Gerunds: {<DT>?<NN>?<VBG><NN|RB>}   # chunk gerunds\n",
    "\"\"\"\n",
    "cp = nltk.RegexpParser(grammar)\n",
    "\n",
    "gerunds = ['the receiving end', 'assistant managing editor', 'The running back caught the ball.','The waiting room was full.']\n",
    "gtokens = [nltk.word_tokenize(doc) for doc in gerunds]\n",
    "gpos = [nltk.pos_tag(doc) for doc in gtokens]"
   ]
  },
  {
   "cell_type": "code",
   "execution_count": 76,
   "metadata": {
    "collapsed": false
   },
   "outputs": [
    {
     "data": {
      "image/png": "[encoded data removed]",
      "text/plain": [
       "Tree('S', [Tree('Gerunds', [('The', 'DT'), ('running', 'VBG'), ('back', 'RB')]), ('caught', 'VBN'), ('the', 'DT'), ('ball', 'NN'), ('.', '.')])"
      ]
     },
     "metadata": {},
     "output_type": "display_data"
    },
    {
     "data": {
      "image/png": "[encoded data removed]",
      "text/plain": [
       "Tree('S', [Tree('Gerunds', [('The', 'DT'), ('waiting', 'VBG'), ('room', 'NN')]), ('was', 'VBD'), ('full', 'JJ'), ('.', '.')])"
      ]
     },
     "metadata": {},
     "output_type": "display_data"
    }
   ],
   "source": [
    "display(cp.parse(gpos[2]))\n",
    "display(cp.parse(gpos[3]))\n"
   ]
  },
  {
   "cell_type": "markdown",
   "metadata": {},
   "source": [
    "(7) Use the function nltk.ne_chunk_sents to find top 10 most common named entities in the 'sci.med' category of 20 newsgroups."
   ]
  },
  {
   "cell_type": "code",
   "execution_count": 24,
   "metadata": {
    "collapsed": true
   },
   "outputs": [],
   "source": [
    "mednews = fetch_20newsgroups(subset='train',\n",
    "                          categories=('sci.med',),\n",
    "                          remove=('headers', 'footers', 'quotes'))"
   ]
  },
  {
   "cell_type": "code",
   "execution_count": 33,
   "metadata": {
    "collapsed": false
   },
   "outputs": [
    {
     "name": "stdout",
     "output_type": "stream",
     "text": [
      "[(u'(ORGANIZATION MSG/NNP)', 118), (u'(PERSON Gordon/JJ)', 72), (u'(ORGANIZATION HICNet/NNP Medical/NNP Newsletter/NNP)', 51), (u'(ORGANIZATION HIV/NNP)', 46), (u'(ORGANIZATION AIDS/NNP)', 42), (u'(GPE United/NNP States/NNPS)', 30), (u'(GPE Health/NNP)', 30), (u'(ORGANIZATION University/NNP)', 28), (u'(ORGANIZATION RSI/NNP)', 27), (u'(PERSON O157/NNP)', 27)]\n"
     ]
    }
   ],
   "source": [
    "import helper_ner\n",
    "\n",
    "sentences = []\n",
    "[sentences.extend(nltk.sent_tokenize(text)) for text in mednews.data]\n",
    "tokenized_sentences = [nltk.word_tokenize(sentence) for sentence in sentences]\n",
    "tagged_sentences = [nltk.pos_tag(sentence) for sentence in tokenized_sentences]\n",
    "chunked_sentences = nltk.ne_chunk_sents(tagged_sentences, binary=False)\n",
    "\n",
    "named_entities = helper_ner.get_all_named_entities(chunked_sentences, structure='string')\n",
    "\n",
    "from collections import Counter\n",
    "c = Counter(named_entities)\n",
    "print c.most_common(10)\n",
    "\n"
   ]
  },
  {
   "cell_type": "markdown",
   "metadata": {},
   "source": [
    "(8) Look at http://scikit-learn.org/stable/modules/feature_extraction.html\n",
    "\n",
    "Start by initializing ngram_vectorizer = CountVectorizer(analyzer='char_wb', ngram_range=(2, 2), min_df=1)\n",
    "\n",
    "- Apply this to “Fx of obesity but no fx of coronary artery diseases.” \n",
    "- How many features are there?\n",
    "- How many features do you get with setting ngram_range=(2, 5)?"
   ]
  },
  {
   "cell_type": "code",
   "execution_count": 88,
   "metadata": {
    "collapsed": false
   },
   "outputs": [
    {
     "data": {
      "text/plain": [
       "CountVectorizer(analyzer='char_wb', binary=False, decode_error=u'strict',\n",
       "        dtype=<type 'numpy.int64'>, encoding=u'utf-8', input=u'content',\n",
       "        lowercase=True, max_df=1.0, max_features=None, min_df=1,\n",
       "        ngram_range=(2, 2), preprocessor=None, stop_words=None,\n",
       "        strip_accents=None, token_pattern=u'(?u)\\\\b\\\\w\\\\w+\\\\b',\n",
       "        tokenizer=None, vocabulary=None)"
      ]
     },
     "execution_count": 88,
     "metadata": {},
     "output_type": "execute_result"
    }
   ],
   "source": [
    "from sklearn.feature_extraction.text import CountVectorizer\n",
    "ngram_vectorizer = CountVectorizer(analyzer='char_wb', ngram_range=(2, 2), min_df=1)\n",
    "ngram_vectorizer"
   ]
  },
  {
   "cell_type": "code",
   "execution_count": 89,
   "metadata": {
    "collapsed": false
   },
   "outputs": [
    {
     "data": {
      "text/plain": [
       "<1x39 sparse matrix of type '<type 'numpy.int64'>'\n",
       "\twith 39 stored elements in Compressed Sparse Row format>"
      ]
     },
     "execution_count": 89,
     "metadata": {},
     "output_type": "execute_result"
    }
   ],
   "source": [
    "sent = ['Fx of obesity but no fx of coronary artery diseases']\n",
    "x = ngram_vectorizer.fit_transform(sent)\n",
    "x"
   ]
  },
  {
   "cell_type": "code",
   "execution_count": 90,
   "metadata": {
    "collapsed": false
   },
   "outputs": [
    {
     "data": {
      "text/plain": [
       "<1x128 sparse matrix of type '<type 'numpy.int64'>'\n",
       "\twith 128 stored elements in Compressed Sparse Row format>"
      ]
     },
     "execution_count": 90,
     "metadata": {},
     "output_type": "execute_result"
    }
   ],
   "source": [
    "ngram_vectorizer = CountVectorizer(analyzer='char_wb', ngram_range=(2, 5), min_df=1)\n",
    "ngram_vectorizer\n",
    "sent = ['Fx of obesity but no fx of coronary artery diseases']\n",
    "x = ngram_vectorizer.fit_transform(sent)\n",
    "x"
   ]
  },
  {
   "cell_type": "markdown",
   "metadata": {},
   "source": [
    "(9) Read article on Parsey McParseface:\n",
    "\n",
    "https://www.washingtonpost.com/news/wonk/wp/2016/05/18/googles-new-artificial-intelligence-cant-understand-these-sentences-can-you/?utm_term=.cf835cf7e5fd\n",
    "\n",
    "What is a garden-path sentence?  \n",
    "Can Parsey McParseface help with pronoun resolution across sentences?"
   ]
  },
  {
   "cell_type": "markdown",
   "metadata": {},
   "source": [
    "A garden path sentence is one in which the initial presumed meaning is discovered to be incorrect as the reading of the sentences progresses.\n",
    "\n",
    "I would think Parsey McParseface would help with pronoun resolution if it involves probabilities. Could just start with who is the most likely referent which would alter as the sentence was processed. "
   ]
  }
 ],
 "metadata": {
  "anaconda-cloud": {},
  "kernelspec": {
   "display_name": "Python [conda root]",
   "language": "python",
   "name": "conda-root-py"
  },
  "language_info": {
   "codemirror_mode": {
    "name": "ipython",
    "version": 2
   },
   "file_extension": ".py",
   "mimetype": "text/x-python",
   "name": "python",
   "nbconvert_exporter": "python",
   "pygments_lexer": "ipython2",
   "version": "2.7.12"
  }
 },
 "nbformat": 4,
 "nbformat_minor": 1
}
